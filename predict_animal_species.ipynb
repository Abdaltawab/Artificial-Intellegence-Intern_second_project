{
 "cells": [
  {
   "cell_type": "code",
   "execution_count": 1,
   "id": "46a44db0",
   "metadata": {},
   "outputs": [],
   "source": [
    "import tensorflow as tf\n",
    "from tensorflow.keras.applications.mobilenet_v2 import MobileNetV2, preprocess_input, decode_predictions\n",
    "from tensorflow.keras.preprocessing import image\n",
    "import numpy as np\n",
    "\n"
   ]
  },
  {
   "cell_type": "markdown",
   "id": "f5a68a48",
   "metadata": {},
   "source": [
    "# Load the pre-trained MobileNetV2 model"
   ]
  },
  {
   "cell_type": "code",
   "execution_count": 2,
   "id": "34d69024",
   "metadata": {},
   "outputs": [],
   "source": [
    "\n",
    "model = MobileNetV2(weights='imagenet')\n"
   ]
  },
  {
   "cell_type": "markdown",
   "id": "275678d9",
   "metadata": {},
   "source": [
    "# function predict_animal_species"
   ]
  },
  {
   "cell_type": "code",
   "execution_count": 3,
   "id": "7fe785ad",
   "metadata": {},
   "outputs": [],
   "source": [
    "\n",
    "def predict_animal_species(image_path):\n",
    "    # Load and preprocess the input image\n",
    "    img = image.load_img(image_path, target_size=(224, 224))\n",
    "    img_array = image.img_to_array(img)\n",
    "    img_array = np.expand_dims(img_array, axis=0)\n",
    "    processed_img = preprocess_input(img_array)\n",
    "\n",
    "    # Make predictions on the image\n",
    "    predictions = model.predict(processed_img)\n",
    "    decoded_predictions = decode_predictions(predictions, top=3)[0]\n",
    "\n",
    "    # Display the top 3 predictions\n",
    "    print(\"Top predictions:\")\n",
    "    for pred in decoded_predictions:\n",
    "        print(f\"{pred[1]}: {pred[2]*100:.2f}%\")\n"
   ]
  },
  {
   "cell_type": "code",
   "execution_count": 4,
   "id": "4de5c89c",
   "metadata": {},
   "outputs": [
    {
     "name": "stdout",
     "output_type": "stream",
     "text": [
      "1/1 [==============================] - 1s 539ms/step\n",
      "Top predictions:\n",
      "zebra: 84.16%\n",
      "leopard: 0.25%\n",
      "hartebeest: 0.18%\n"
     ]
    }
   ],
   "source": [
    "if __name__ == \"__main__\":\n",
    "    predict_animal_species('zebra.jpg')\n"
   ]
  },
  {
   "cell_type": "code",
   "execution_count": 6,
   "id": "76699663",
   "metadata": {},
   "outputs": [
    {
     "name": "stdout",
     "output_type": "stream",
     "text": [
      "1/1 [==============================] - 0s 28ms/step\n",
      "Top predictions:\n",
      "lion: 56.57%\n",
      "chow: 7.06%\n",
      "collie: 2.62%\n"
     ]
    }
   ],
   "source": [
    "if __name__ == \"__main__\":\n",
    "    predict_animal_species('lion.jpg')\n"
   ]
  },
  {
   "cell_type": "code",
   "execution_count": 7,
   "id": "2a6d3157",
   "metadata": {},
   "outputs": [
    {
     "name": "stdout",
     "output_type": "stream",
     "text": [
      "1/1 [==============================] - 0s 32ms/step\n",
      "Top predictions:\n",
      "African_elephant: 69.70%\n",
      "tusker: 14.00%\n",
      "Indian_elephant: 7.98%\n"
     ]
    }
   ],
   "source": [
    "if __name__ == \"__main__\":\n",
    "    predict_animal_species('elephant.jpg')"
   ]
  },
  {
   "cell_type": "code",
   "execution_count": null,
   "id": "e8f176dd",
   "metadata": {},
   "outputs": [],
   "source": []
  }
 ],
 "metadata": {
  "kernelspec": {
   "display_name": "Python 3 (ipykernel)",
   "language": "python",
   "name": "python3"
  },
  "language_info": {
   "codemirror_mode": {
    "name": "ipython",
    "version": 3
   },
   "file_extension": ".py",
   "mimetype": "text/x-python",
   "name": "python",
   "nbconvert_exporter": "python",
   "pygments_lexer": "ipython3",
   "version": "3.9.13"
  }
 },
 "nbformat": 4,
 "nbformat_minor": 5
}
